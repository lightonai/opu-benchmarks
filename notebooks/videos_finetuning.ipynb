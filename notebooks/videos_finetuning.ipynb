{
 "cells": [
  {
   "cell_type": "code",
   "execution_count": 1,
   "metadata": {},
   "outputs": [
    {
     "name": "stderr",
     "output_type": "stream",
     "text": [
      "Couldn't import `requests` library. Be sure to install it on the client side.\n",
      "Traceback (most recent call last):\n",
      "  File \"/home/luca/bench_venv/lib/python3.6/site-packages/ray/tune/web_server.py\", line 16, in <module>\n",
      "    import requests  # `requests` is not part of stdlib.\n",
      "ModuleNotFoundError: No module named 'requests'\n"
     ]
    }
   ],
   "source": [
    "from ray.tune import Analysis\n",
    "\n",
    "analysis = Analysis(\"/home/luca/Desktop/ray/hmdb51/\")"
   ]
  },
  {
   "cell_type": "code",
   "execution_count": 9,
   "metadata": {},
   "outputs": [
    {
     "data": {
      "text/plain": [
       "{'/home/luca/Desktop/ray/hmdb51/main/main_c7bd2f0e_0_batch_size=8,lr=0.001_2020-03-13_16-10-31bivub652':    train_loss  train_acc_clip  train_time_epoch  test_loss  test_acc_clip  \\\n",
       " 0    3.360829       18.153365        148.740078   2.860983      29.742765   \n",
       " 1    2.555229       38.341158        148.290298   2.514546      36.120043   \n",
       " 2    2.473974       40.487369        148.292406   2.477667      36.548767   \n",
       " \n",
       "    test_acc_maj  test_acc_softmax   inf_full   inf_conv  trial_id  ...  \\\n",
       " 0     28.169935         28.627451  28.488510  24.074457  c7bd2f0e  ...   \n",
       " 1     33.594771         34.117647  28.169526  24.082511  c7bd2f0e  ...   \n",
       " 2     33.856209         34.771242  28.122146  24.079794  c7bd2f0e  ...   \n",
       " \n",
       "                   date   timestamp  time_total_s    pid    hostname  \\\n",
       " 0  2020-03-13_16-13-44  1584112424    192.631656  12378  compute-03   \n",
       " 1  2020-03-13_16-16-41  1584112601    369.113083  12378  compute-03   \n",
       " 2  2020-03-13_16-19-37  1584112777    545.547981  12378  compute-03   \n",
       " \n",
       "           node_ip time_since_restore  timesteps_since_restore  \\\n",
       " 0  176.124.41.233         192.631656                        0   \n",
       " 1  176.124.41.233         369.113083                        0   \n",
       " 2  176.124.41.233         545.547981                        0   \n",
       " \n",
       "    iterations_since_restore           experiment_tag  \n",
       " 0                         1  0_batch_size=8,lr=0.001  \n",
       " 1                         2  0_batch_size=8,lr=0.001  \n",
       " 2                         3  0_batch_size=8,lr=0.001  \n",
       " \n",
       " [3 rows x 26 columns],\n",
       " '/home/luca/Desktop/ray/hmdb51/main/main_c7bd2f0f_1_batch_size=32,lr=0.001_2020-03-13_16-19-37zr1b4j2u':    train_loss  train_acc_clip  train_time_epoch  test_loss  test_acc_clip  \\\n",
       " 0    3.583428       14.799911        100.077901   3.078420      25.026795   \n",
       " 1    2.954282       31.723675        100.054066   3.007811      28.992497   \n",
       " \n",
       "    test_acc_maj  test_acc_softmax   inf_full   inf_conv  trial_id  ...  \\\n",
       " 0     21.764706         22.026144  22.583281  17.562796  c7bd2f0f  ...   \n",
       " 1     25.751634         26.078431  22.818806  17.557981  c7bd2f0f  ...   \n",
       " \n",
       "                   date   timestamp  time_total_s    pid    hostname  \\\n",
       " 0  2020-03-13_16-21-54  1584112914    135.865094  12381  compute-03   \n",
       " 1  2020-03-13_16-23-56  1584113036    258.753394  12381  compute-03   \n",
       " \n",
       "           node_ip time_since_restore  timesteps_since_restore  \\\n",
       " 0  176.124.41.233         135.865094                        0   \n",
       " 1  176.124.41.233         258.753394                        0   \n",
       " \n",
       "    iterations_since_restore            experiment_tag  \n",
       " 0                         1  1_batch_size=32,lr=0.001  \n",
       " 1                         2  1_batch_size=32,lr=0.001  \n",
       " \n",
       " [2 rows x 26 columns]}"
      ]
     },
     "execution_count": 9,
     "metadata": {},
     "output_type": "execute_result"
    }
   ],
   "source": [
    "analysis.trial_dataframes"
   ]
  },
  {
   "cell_type": "code",
   "execution_count": 12,
   "metadata": {},
   "outputs": [
    {
     "data": {
      "text/plain": [
       "[0.001, 0.0001, 1e-05, 0.005, 0.0005, 5e-05]"
      ]
     },
     "execution_count": 12,
     "metadata": {},
     "output_type": "execute_result"
    }
   ],
   "source": [
    "[10**-i for i in range(3, 6)] + [5*10**-i for i in range(3, 6)]"
   ]
  },
  {
   "cell_type": "code",
   "execution_count": null,
   "metadata": {},
   "outputs": [],
   "source": []
  }
 ],
 "metadata": {
  "kernelspec": {
   "display_name": "Python3 (bench_venv)",
   "language": "python",
   "name": "bench_venv"
  },
  "language_info": {
   "codemirror_mode": {
    "name": "ipython",
    "version": 3
   },
   "file_extension": ".py",
   "mimetype": "text/x-python",
   "name": "python",
   "nbconvert_exporter": "python",
   "pygments_lexer": "ipython3",
   "version": "3.6.8"
  }
 },
 "nbformat": 4,
 "nbformat_minor": 4
}
